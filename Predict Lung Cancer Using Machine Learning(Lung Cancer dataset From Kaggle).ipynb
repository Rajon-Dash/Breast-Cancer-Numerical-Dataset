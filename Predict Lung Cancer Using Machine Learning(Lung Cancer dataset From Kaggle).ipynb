{
 "cells": [
  {
   "cell_type": "code",
   "execution_count": 1,
   "id": "ded41c35",
   "metadata": {},
   "outputs": [],
   "source": [
    "import numpy as np\n",
    "import pandas as pd\n",
    "import matplotlib.pyplot as plt"
   ]
  },
  {
   "cell_type": "code",
   "execution_count": 2,
   "id": "203fe3fc",
   "metadata": {},
   "outputs": [],
   "source": [
    "data = pd.read_csv('./lung_cancer_examples.csv')"
   ]
  },
  {
   "cell_type": "code",
   "execution_count": 3,
   "id": "ee478ece",
   "metadata": {},
   "outputs": [
    {
     "data": {
      "text/html": [
       "<div>\n",
       "<style scoped>\n",
       "    .dataframe tbody tr th:only-of-type {\n",
       "        vertical-align: middle;\n",
       "    }\n",
       "\n",
       "    .dataframe tbody tr th {\n",
       "        vertical-align: top;\n",
       "    }\n",
       "\n",
       "    .dataframe thead th {\n",
       "        text-align: right;\n",
       "    }\n",
       "</style>\n",
       "<table border=\"1\" class=\"dataframe\">\n",
       "  <thead>\n",
       "    <tr style=\"text-align: right;\">\n",
       "      <th></th>\n",
       "      <th>Name</th>\n",
       "      <th>Surname</th>\n",
       "      <th>Age</th>\n",
       "      <th>Smokes</th>\n",
       "      <th>AreaQ</th>\n",
       "      <th>Alkhol</th>\n",
       "      <th>Result</th>\n",
       "    </tr>\n",
       "  </thead>\n",
       "  <tbody>\n",
       "    <tr>\n",
       "      <th>0</th>\n",
       "      <td>John</td>\n",
       "      <td>Wick</td>\n",
       "      <td>35</td>\n",
       "      <td>3</td>\n",
       "      <td>5</td>\n",
       "      <td>4</td>\n",
       "      <td>1</td>\n",
       "    </tr>\n",
       "    <tr>\n",
       "      <th>1</th>\n",
       "      <td>John</td>\n",
       "      <td>Constantine</td>\n",
       "      <td>27</td>\n",
       "      <td>20</td>\n",
       "      <td>2</td>\n",
       "      <td>5</td>\n",
       "      <td>1</td>\n",
       "    </tr>\n",
       "    <tr>\n",
       "      <th>2</th>\n",
       "      <td>Camela</td>\n",
       "      <td>Anderson</td>\n",
       "      <td>30</td>\n",
       "      <td>0</td>\n",
       "      <td>5</td>\n",
       "      <td>2</td>\n",
       "      <td>0</td>\n",
       "    </tr>\n",
       "    <tr>\n",
       "      <th>3</th>\n",
       "      <td>Alex</td>\n",
       "      <td>Telles</td>\n",
       "      <td>28</td>\n",
       "      <td>0</td>\n",
       "      <td>8</td>\n",
       "      <td>1</td>\n",
       "      <td>0</td>\n",
       "    </tr>\n",
       "    <tr>\n",
       "      <th>4</th>\n",
       "      <td>Diego</td>\n",
       "      <td>Maradona</td>\n",
       "      <td>68</td>\n",
       "      <td>4</td>\n",
       "      <td>5</td>\n",
       "      <td>6</td>\n",
       "      <td>1</td>\n",
       "    </tr>\n",
       "  </tbody>\n",
       "</table>\n",
       "</div>"
      ],
      "text/plain": [
       "     Name      Surname  Age  Smokes  AreaQ  Alkhol  Result\n",
       "0    John         Wick   35       3      5       4       1\n",
       "1    John  Constantine   27      20      2       5       1\n",
       "2  Camela     Anderson   30       0      5       2       0\n",
       "3    Alex       Telles   28       0      8       1       0\n",
       "4   Diego     Maradona   68       4      5       6       1"
      ]
     },
     "execution_count": 3,
     "metadata": {},
     "output_type": "execute_result"
    }
   ],
   "source": [
    "data.head()"
   ]
  },
  {
   "cell_type": "code",
   "execution_count": 4,
   "id": "96335d06",
   "metadata": {},
   "outputs": [
    {
     "data": {
      "text/plain": [
       "(59, 7)"
      ]
     },
     "execution_count": 4,
     "metadata": {},
     "output_type": "execute_result"
    }
   ],
   "source": [
    "data.shape"
   ]
  },
  {
   "cell_type": "code",
   "execution_count": 5,
   "id": "e772d4b2",
   "metadata": {},
   "outputs": [
    {
     "data": {
      "text/plain": [
       "Name       0\n",
       "Surname    0\n",
       "Age        0\n",
       "Smokes     0\n",
       "AreaQ      0\n",
       "Alkhol     0\n",
       "Result     0\n",
       "dtype: int64"
      ]
     },
     "execution_count": 5,
     "metadata": {},
     "output_type": "execute_result"
    }
   ],
   "source": [
    "data.isnull().sum()"
   ]
  },
  {
   "cell_type": "markdown",
   "id": "f38ecdcc",
   "metadata": {},
   "source": [
    "# Label encodeing because convert the categorical data to numerical data"
   ]
  },
  {
   "cell_type": "code",
   "execution_count": 6,
   "id": "aa8f2adb",
   "metadata": {},
   "outputs": [],
   "source": [
    "from sklearn.preprocessing import LabelEncoder\n",
    "labelencoder_Y = LabelEncoder()"
   ]
  },
  {
   "cell_type": "code",
   "execution_count": 7,
   "id": "a6c0b357",
   "metadata": {},
   "outputs": [],
   "source": [
    "data.iloc[:,0] =  labelencoder_Y.fit_transform(data.iloc[:,0].values)"
   ]
  },
  {
   "cell_type": "code",
   "execution_count": 8,
   "id": "ff71917e",
   "metadata": {},
   "outputs": [],
   "source": [
    "data.iloc[:,1] =  labelencoder_Y.fit_transform(data.iloc[:,1].values)"
   ]
  },
  {
   "cell_type": "code",
   "execution_count": 9,
   "id": "bc1214d1",
   "metadata": {},
   "outputs": [
    {
     "data": {
      "text/plain": [
       "array([47,  7,  0, 44, 28, 36, 43,  1, 24, 31, 29,  5,  8, 48, 27, 19, 19,\n",
       "       42, 39, 22, 14, 37, 34, 35, 17, 30, 38, 41, 46, 16,  4, 26, 32, 13,\n",
       "        9, 21, 18, 11,  6, 10, 23, 14, 12, 40, 25, 33,  2, 24, 45, 19, 19,\n",
       "       42, 39, 22,  3, 15, 20, 34, 35])"
      ]
     },
     "execution_count": 9,
     "metadata": {},
     "output_type": "execute_result"
    }
   ],
   "source": [
    "data.iloc[:,1].values"
   ]
  },
  {
   "cell_type": "code",
   "execution_count": 10,
   "id": "1f7afe40",
   "metadata": {},
   "outputs": [
    {
     "data": {
      "text/html": [
       "<div>\n",
       "<style scoped>\n",
       "    .dataframe tbody tr th:only-of-type {\n",
       "        vertical-align: middle;\n",
       "    }\n",
       "\n",
       "    .dataframe tbody tr th {\n",
       "        vertical-align: top;\n",
       "    }\n",
       "\n",
       "    .dataframe thead th {\n",
       "        text-align: right;\n",
       "    }\n",
       "</style>\n",
       "<table border=\"1\" class=\"dataframe\">\n",
       "  <thead>\n",
       "    <tr style=\"text-align: right;\">\n",
       "      <th></th>\n",
       "      <th>Surname</th>\n",
       "      <th>Age</th>\n",
       "      <th>Smokes</th>\n",
       "      <th>AreaQ</th>\n",
       "      <th>Alkhol</th>\n",
       "      <th>Result</th>\n",
       "    </tr>\n",
       "  </thead>\n",
       "  <tbody>\n",
       "    <tr>\n",
       "      <th>Surname</th>\n",
       "      <td>1.000000</td>\n",
       "      <td>0.035988</td>\n",
       "      <td>0.069223</td>\n",
       "      <td>0.023939</td>\n",
       "      <td>0.055678</td>\n",
       "      <td>0.164017</td>\n",
       "    </tr>\n",
       "    <tr>\n",
       "      <th>Age</th>\n",
       "      <td>0.035988</td>\n",
       "      <td>1.000000</td>\n",
       "      <td>0.053665</td>\n",
       "      <td>-0.268957</td>\n",
       "      <td>0.318621</td>\n",
       "      <td>0.637726</td>\n",
       "    </tr>\n",
       "    <tr>\n",
       "      <th>Smokes</th>\n",
       "      <td>0.069223</td>\n",
       "      <td>0.053665</td>\n",
       "      <td>1.000000</td>\n",
       "      <td>-0.353295</td>\n",
       "      <td>0.469915</td>\n",
       "      <td>0.373444</td>\n",
       "    </tr>\n",
       "    <tr>\n",
       "      <th>AreaQ</th>\n",
       "      <td>0.023939</td>\n",
       "      <td>-0.268957</td>\n",
       "      <td>-0.353295</td>\n",
       "      <td>1.000000</td>\n",
       "      <td>-0.714412</td>\n",
       "      <td>-0.746621</td>\n",
       "    </tr>\n",
       "    <tr>\n",
       "      <th>Alkhol</th>\n",
       "      <td>0.055678</td>\n",
       "      <td>0.318621</td>\n",
       "      <td>0.469915</td>\n",
       "      <td>-0.714412</td>\n",
       "      <td>1.000000</td>\n",
       "      <td>0.810439</td>\n",
       "    </tr>\n",
       "    <tr>\n",
       "      <th>Result</th>\n",
       "      <td>0.164017</td>\n",
       "      <td>0.637726</td>\n",
       "      <td>0.373444</td>\n",
       "      <td>-0.746621</td>\n",
       "      <td>0.810439</td>\n",
       "      <td>1.000000</td>\n",
       "    </tr>\n",
       "  </tbody>\n",
       "</table>\n",
       "</div>"
      ],
      "text/plain": [
       "          Surname       Age    Smokes     AreaQ    Alkhol    Result\n",
       "Surname  1.000000  0.035988  0.069223  0.023939  0.055678  0.164017\n",
       "Age      0.035988  1.000000  0.053665 -0.268957  0.318621  0.637726\n",
       "Smokes   0.069223  0.053665  1.000000 -0.353295  0.469915  0.373444\n",
       "AreaQ    0.023939 -0.268957 -0.353295  1.000000 -0.714412 -0.746621\n",
       "Alkhol   0.055678  0.318621  0.469915 -0.714412  1.000000  0.810439\n",
       "Result   0.164017  0.637726  0.373444 -0.746621  0.810439  1.000000"
      ]
     },
     "execution_count": 10,
     "metadata": {},
     "output_type": "execute_result"
    }
   ],
   "source": [
    "data.iloc[:,1:7].corr()"
   ]
  },
  {
   "cell_type": "code",
   "execution_count": 11,
   "id": "06e99a37",
   "metadata": {},
   "outputs": [],
   "source": [
    "x = data.drop('Result',axis=1).values\n",
    "y = data['Result'].values"
   ]
  },
  {
   "cell_type": "code",
   "execution_count": 12,
   "id": "d1cd0943",
   "metadata": {},
   "outputs": [
    {
     "data": {
      "text/plain": [
       "array([1, 1, 0, 0, 1, 0, 0, 0, 0, 1, 0, 0, 0, 1, 1, 0, 1, 0, 1, 1, 1, 0,\n",
       "       0, 0, 1, 0, 0, 0, 1, 1, 0, 1, 1, 1, 0, 0, 1, 1, 0, 0, 1, 0, 1, 1,\n",
       "       0, 0, 0, 0, 1, 1, 0, 1, 1, 0, 0, 1, 1, 1, 0], dtype=int64)"
      ]
     },
     "execution_count": 12,
     "metadata": {},
     "output_type": "execute_result"
    }
   ],
   "source": [
    "y"
   ]
  },
  {
   "cell_type": "code",
   "execution_count": 13,
   "id": "91c94ada",
   "metadata": {},
   "outputs": [],
   "source": [
    "from sklearn.model_selection import train_test_split\n",
    "x_test , x_train,y_test,y_train = train_test_split(x,y,test_size=0.2,random_state=1)"
   ]
  },
  {
   "cell_type": "code",
   "execution_count": 14,
   "id": "d04e4be7",
   "metadata": {},
   "outputs": [],
   "source": [
    "from sklearn.preprocessing import StandardScaler\n",
    "sc = StandardScaler()\n",
    "x_train = sc.fit_transform(x_train)\n",
    "x_test = sc.fit_transform(x_test)"
   ]
  },
  {
   "cell_type": "markdown",
   "id": "df97b190",
   "metadata": {},
   "source": [
    "# Train the model using Logistic regression\n"
   ]
  },
  {
   "cell_type": "code",
   "execution_count": 15,
   "id": "e1dec77e",
   "metadata": {},
   "outputs": [
    {
     "name": "stdout",
     "output_type": "stream",
     "text": [
      "the accuracy of  Logistic Regressiono Model is : 1.0\n"
     ]
    }
   ],
   "source": [
    "    from sklearn.linear_model import LogisticRegression\n",
    "    logistic  = LogisticRegression(random_state = 0)\n",
    "    logistic .fit(x_train , y_train)\n",
    "    y_pre_logistic = logistic .predict(x_test)\n",
    "    \n",
    "    print(\"the accuracy of  Logistic Regressiono Model is :\",logistic .score(x_train,y_train))\n",
    "    "
   ]
  },
  {
   "cell_type": "markdown",
   "id": "23ecddb6",
   "metadata": {},
   "source": [
    "# Train the model using Decision Tree"
   ]
  },
  {
   "cell_type": "code",
   "execution_count": 16,
   "id": "a71a4498",
   "metadata": {},
   "outputs": [
    {
     "name": "stdout",
     "output_type": "stream",
     "text": [
      "the accuracy of Decision Tree  Model is : 1.0\n"
     ]
    }
   ],
   "source": [
    "    from sklearn.tree import DecisionTreeClassifier\n",
    "    D_tree = DecisionTreeClassifier(criterion='entropy' ,random_state = 0 )\n",
    "    D_tree.fit(x_train , y_train)\n",
    "    y_pre_D_tree = D_tree.predict(x_test)\n",
    "    print(\"the accuracy of Decision Tree  Model is :\",D_tree.score(x_train,y_train))\n",
    "    "
   ]
  },
  {
   "cell_type": "markdown",
   "id": "5b2b137d",
   "metadata": {},
   "source": [
    "# Train the model using RandomForestClassifier"
   ]
  },
  {
   "cell_type": "code",
   "execution_count": 17,
   "id": "78fcf545",
   "metadata": {},
   "outputs": [
    {
     "name": "stdout",
     "output_type": "stream",
     "text": [
      "the accuracy of RandomForest Classifier  Model is : 1.0\n"
     ]
    }
   ],
   "source": [
    "    from sklearn.ensemble import RandomForestClassifier\n",
    "    R_forest = RandomForestClassifier(n_estimators=10,criterion='entropy',random_state=0)\n",
    "    R_forest.fit(x_train , y_train)\n",
    "    y_pre_R_forest = R_forest.predict(x_test)\n",
    "\n",
    "    print(\"the accuracy of RandomForest Classifier  Model is :\",R_forest.score(x_train,y_train))"
   ]
  },
  {
   "cell_type": "code",
   "execution_count": 18,
   "id": "975d18ee",
   "metadata": {},
   "outputs": [
    {
     "name": "stdout",
     "output_type": "stream",
     "text": [
      "the accuracy of  support vector machine  Model is : 1.0\n"
     ]
    }
   ],
   "source": [
    "from sklearn import svm\n",
    "model_svm = svm.SVC(kernel=\"linear\",gamma=\"auto\",C=0.3)\n",
    "model_svm.fit(x_train,y_train)\n",
    "y_pre_svm = model_svm.predict(x_test)\n",
    "print(\"the accuracy of  support vector machine  Model is :\",model_svm.score(x_train,y_train))"
   ]
  },
  {
   "cell_type": "markdown",
   "id": "cdb6c682",
   "metadata": {},
   "source": [
    "# The k-Nearest Neighbors (KNN) algorithm"
   ]
  },
  {
   "cell_type": "code",
   "execution_count": 19,
   "id": "48c1304b",
   "metadata": {},
   "outputs": [
    {
     "name": "stdout",
     "output_type": "stream",
     "text": [
      "the accuracy of  support vector machine  Model is : 0.75\n"
     ]
    }
   ],
   "source": [
    "from sklearn.neighbors import KNeighborsClassifier\n",
    "k_near = KNeighborsClassifier(n_neighbors=5)\n",
    "k_near.fit(x_train, y_train)\n",
    "y_pre_knn = k_near.predict(x_test)\n",
    "print(\"the accuracy of  support vector machine  Model is :\",k_near.score(x_train,y_train))"
   ]
  },
  {
   "cell_type": "markdown",
   "id": "7836346d",
   "metadata": {},
   "source": [
    "# Classification  report for every model"
   ]
  },
  {
   "cell_type": "markdown",
   "id": "cd065abb",
   "metadata": {},
   "source": [
    "# logistic regression  classification report"
   ]
  },
  {
   "cell_type": "code",
   "execution_count": 20,
   "id": "ab1a735c",
   "metadata": {},
   "outputs": [
    {
     "name": "stdout",
     "output_type": "stream",
     "text": [
      "              precision    recall  f1-score   support\n",
      "\n",
      "           0       0.59      1.00      0.75        22\n",
      "           1       1.00      0.40      0.57        25\n",
      "\n",
      "    accuracy                           0.68        47\n",
      "   macro avg       0.80      0.70      0.66        47\n",
      "weighted avg       0.81      0.68      0.65        47\n",
      "\n"
     ]
    }
   ],
   "source": [
    "from sklearn.metrics import classification_report\n",
    "print(classification_report(y_test,y_pre_logistic))"
   ]
  },
  {
   "cell_type": "markdown",
   "id": "549c4957",
   "metadata": {},
   "source": [
    "# Support Vector Machine classification report"
   ]
  },
  {
   "cell_type": "code",
   "execution_count": 21,
   "id": "20b295d8",
   "metadata": {},
   "outputs": [
    {
     "name": "stdout",
     "output_type": "stream",
     "text": [
      "              precision    recall  f1-score   support\n",
      "\n",
      "           0       0.71      1.00      0.83        22\n",
      "           1       1.00      0.64      0.78        25\n",
      "\n",
      "    accuracy                           0.81        47\n",
      "   macro avg       0.85      0.82      0.81        47\n",
      "weighted avg       0.86      0.81      0.80        47\n",
      "\n"
     ]
    }
   ],
   "source": [
    "print(classification_report(y_test,y_pre_svm))"
   ]
  },
  {
   "cell_type": "markdown",
   "id": "67839c85",
   "metadata": {},
   "source": [
    "# Decision Tree Algorithm classification report"
   ]
  },
  {
   "cell_type": "code",
   "execution_count": 22,
   "id": "f31eabaa",
   "metadata": {},
   "outputs": [
    {
     "name": "stdout",
     "output_type": "stream",
     "text": [
      "              precision    recall  f1-score   support\n",
      "\n",
      "           0       0.67      1.00      0.80        22\n",
      "           1       1.00      0.56      0.72        25\n",
      "\n",
      "    accuracy                           0.77        47\n",
      "   macro avg       0.83      0.78      0.76        47\n",
      "weighted avg       0.84      0.77      0.76        47\n",
      "\n"
     ]
    }
   ],
   "source": [
    "print(classification_report(y_test,y_pre_D_tree))"
   ]
  },
  {
   "cell_type": "markdown",
   "id": "4dc577d0",
   "metadata": {},
   "source": [
    "# RandomForestClassifier classification report"
   ]
  },
  {
   "cell_type": "code",
   "execution_count": 23,
   "id": "6c60f3e9",
   "metadata": {},
   "outputs": [
    {
     "name": "stdout",
     "output_type": "stream",
     "text": [
      "              precision    recall  f1-score   support\n",
      "\n",
      "           0       0.69      1.00      0.81        22\n",
      "           1       1.00      0.60      0.75        25\n",
      "\n",
      "    accuracy                           0.79        47\n",
      "   macro avg       0.84      0.80      0.78        47\n",
      "weighted avg       0.85      0.79      0.78        47\n",
      "\n"
     ]
    }
   ],
   "source": [
    "print(classification_report(y_test,y_pre_R_forest))"
   ]
  },
  {
   "cell_type": "markdown",
   "id": "74f9a34e",
   "metadata": {},
   "source": [
    "# The k-Nearest Neighbors (KNN) algorithm classification report"
   ]
  },
  {
   "cell_type": "code",
   "execution_count": 24,
   "id": "1a11fedb",
   "metadata": {},
   "outputs": [
    {
     "name": "stdout",
     "output_type": "stream",
     "text": [
      "              precision    recall  f1-score   support\n",
      "\n",
      "           0       0.48      1.00      0.65        22\n",
      "           1       1.00      0.04      0.08        25\n",
      "\n",
      "    accuracy                           0.49        47\n",
      "   macro avg       0.74      0.52      0.36        47\n",
      "weighted avg       0.76      0.49      0.34        47\n",
      "\n"
     ]
    }
   ],
   "source": [
    "print(classification_report(y_test,y_pre_knn))"
   ]
  },
  {
   "cell_type": "code",
   "execution_count": null,
   "id": "6939becd",
   "metadata": {},
   "outputs": [],
   "source": []
  },
  {
   "cell_type": "code",
   "execution_count": null,
   "id": "1574360b",
   "metadata": {},
   "outputs": [],
   "source": []
  },
  {
   "cell_type": "code",
   "execution_count": null,
   "id": "2d54e70a",
   "metadata": {},
   "outputs": [],
   "source": []
  },
  {
   "cell_type": "code",
   "execution_count": null,
   "id": "2859c9d0",
   "metadata": {},
   "outputs": [],
   "source": []
  },
  {
   "cell_type": "code",
   "execution_count": null,
   "id": "f7208fc4",
   "metadata": {},
   "outputs": [],
   "source": []
  },
  {
   "cell_type": "code",
   "execution_count": null,
   "id": "c1253990",
   "metadata": {},
   "outputs": [],
   "source": []
  }
 ],
 "metadata": {
  "kernelspec": {
   "display_name": "Python 3 (ipykernel)",
   "language": "python",
   "name": "python3"
  },
  "language_info": {
   "codemirror_mode": {
    "name": "ipython",
    "version": 3
   },
   "file_extension": ".py",
   "mimetype": "text/x-python",
   "name": "python",
   "nbconvert_exporter": "python",
   "pygments_lexer": "ipython3",
   "version": "3.10.12"
  },
  "varInspector": {
   "cols": {
    "lenName": 16,
    "lenType": 16,
    "lenVar": 40
   },
   "kernels_config": {
    "python": {
     "delete_cmd_postfix": "",
     "delete_cmd_prefix": "del ",
     "library": "var_list.py",
     "varRefreshCmd": "print(var_dic_list())"
    },
    "r": {
     "delete_cmd_postfix": ") ",
     "delete_cmd_prefix": "rm(",
     "library": "var_list.r",
     "varRefreshCmd": "cat(var_dic_list()) "
    }
   },
   "types_to_exclude": [
    "module",
    "function",
    "builtin_function_or_method",
    "instance",
    "_Feature"
   ],
   "window_display": false
  }
 },
 "nbformat": 4,
 "nbformat_minor": 5
}
