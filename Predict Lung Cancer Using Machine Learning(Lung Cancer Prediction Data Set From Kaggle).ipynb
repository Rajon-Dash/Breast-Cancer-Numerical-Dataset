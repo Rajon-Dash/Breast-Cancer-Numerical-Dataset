{
 "cells": [
  {
   "cell_type": "code",
   "execution_count": 2,
   "id": "7dc52233",
   "metadata": {},
   "outputs": [],
   "source": [
    "import numpy as np\n",
    "import pandas as pd\n",
    "import matplotlib.pyplot as plt"
   ]
  },
  {
   "cell_type": "code",
   "execution_count": 3,
   "id": "7c9d75e2",
   "metadata": {},
   "outputs": [],
   "source": [
    "data = pd.read_csv('survey lung cancer(1).csv')"
   ]
  },
  {
   "cell_type": "code",
   "execution_count": 4,
   "id": "92a9105e",
   "metadata": {},
   "outputs": [
    {
     "data": {
      "text/html": [
       "<div>\n",
       "<style scoped>\n",
       "    .dataframe tbody tr th:only-of-type {\n",
       "        vertical-align: middle;\n",
       "    }\n",
       "\n",
       "    .dataframe tbody tr th {\n",
       "        vertical-align: top;\n",
       "    }\n",
       "\n",
       "    .dataframe thead th {\n",
       "        text-align: right;\n",
       "    }\n",
       "</style>\n",
       "<table border=\"1\" class=\"dataframe\">\n",
       "  <thead>\n",
       "    <tr style=\"text-align: right;\">\n",
       "      <th></th>\n",
       "      <th>GENDER</th>\n",
       "      <th>AGE</th>\n",
       "      <th>SMOKING</th>\n",
       "      <th>YELLOW_FINGERS</th>\n",
       "      <th>ANXIETY</th>\n",
       "      <th>PEER_PRESSURE</th>\n",
       "      <th>CHRONIC DISEASE</th>\n",
       "      <th>FATIGUE</th>\n",
       "      <th>ALLERGY</th>\n",
       "      <th>WHEEZING</th>\n",
       "      <th>ALCOHOL CONSUMING</th>\n",
       "      <th>COUGHING</th>\n",
       "      <th>SHORTNESS OF BREATH</th>\n",
       "      <th>SWALLOWING DIFFICULTY</th>\n",
       "      <th>CHEST PAIN</th>\n",
       "      <th>LUNG_CANCER</th>\n",
       "    </tr>\n",
       "  </thead>\n",
       "  <tbody>\n",
       "    <tr>\n",
       "      <th>0</th>\n",
       "      <td>M</td>\n",
       "      <td>69</td>\n",
       "      <td>1</td>\n",
       "      <td>2</td>\n",
       "      <td>2</td>\n",
       "      <td>1</td>\n",
       "      <td>1</td>\n",
       "      <td>2</td>\n",
       "      <td>1</td>\n",
       "      <td>2</td>\n",
       "      <td>2</td>\n",
       "      <td>2</td>\n",
       "      <td>2</td>\n",
       "      <td>2</td>\n",
       "      <td>2</td>\n",
       "      <td>YES</td>\n",
       "    </tr>\n",
       "    <tr>\n",
       "      <th>1</th>\n",
       "      <td>M</td>\n",
       "      <td>74</td>\n",
       "      <td>2</td>\n",
       "      <td>1</td>\n",
       "      <td>1</td>\n",
       "      <td>1</td>\n",
       "      <td>2</td>\n",
       "      <td>2</td>\n",
       "      <td>2</td>\n",
       "      <td>1</td>\n",
       "      <td>1</td>\n",
       "      <td>1</td>\n",
       "      <td>2</td>\n",
       "      <td>2</td>\n",
       "      <td>2</td>\n",
       "      <td>YES</td>\n",
       "    </tr>\n",
       "    <tr>\n",
       "      <th>2</th>\n",
       "      <td>F</td>\n",
       "      <td>59</td>\n",
       "      <td>1</td>\n",
       "      <td>1</td>\n",
       "      <td>1</td>\n",
       "      <td>2</td>\n",
       "      <td>1</td>\n",
       "      <td>2</td>\n",
       "      <td>1</td>\n",
       "      <td>2</td>\n",
       "      <td>1</td>\n",
       "      <td>2</td>\n",
       "      <td>2</td>\n",
       "      <td>1</td>\n",
       "      <td>2</td>\n",
       "      <td>NO</td>\n",
       "    </tr>\n",
       "    <tr>\n",
       "      <th>3</th>\n",
       "      <td>M</td>\n",
       "      <td>63</td>\n",
       "      <td>2</td>\n",
       "      <td>2</td>\n",
       "      <td>2</td>\n",
       "      <td>1</td>\n",
       "      <td>1</td>\n",
       "      <td>1</td>\n",
       "      <td>1</td>\n",
       "      <td>1</td>\n",
       "      <td>2</td>\n",
       "      <td>1</td>\n",
       "      <td>1</td>\n",
       "      <td>2</td>\n",
       "      <td>2</td>\n",
       "      <td>NO</td>\n",
       "    </tr>\n",
       "    <tr>\n",
       "      <th>4</th>\n",
       "      <td>F</td>\n",
       "      <td>63</td>\n",
       "      <td>1</td>\n",
       "      <td>2</td>\n",
       "      <td>1</td>\n",
       "      <td>1</td>\n",
       "      <td>1</td>\n",
       "      <td>1</td>\n",
       "      <td>1</td>\n",
       "      <td>2</td>\n",
       "      <td>1</td>\n",
       "      <td>2</td>\n",
       "      <td>2</td>\n",
       "      <td>1</td>\n",
       "      <td>1</td>\n",
       "      <td>NO</td>\n",
       "    </tr>\n",
       "  </tbody>\n",
       "</table>\n",
       "</div>"
      ],
      "text/plain": [
       "  GENDER  AGE  SMOKING  YELLOW_FINGERS  ANXIETY  PEER_PRESSURE  \\\n",
       "0      M   69        1               2        2              1   \n",
       "1      M   74        2               1        1              1   \n",
       "2      F   59        1               1        1              2   \n",
       "3      M   63        2               2        2              1   \n",
       "4      F   63        1               2        1              1   \n",
       "\n",
       "   CHRONIC DISEASE  FATIGUE   ALLERGY   WHEEZING  ALCOHOL CONSUMING  COUGHING  \\\n",
       "0                1         2         1         2                  2         2   \n",
       "1                2         2         2         1                  1         1   \n",
       "2                1         2         1         2                  1         2   \n",
       "3                1         1         1         1                  2         1   \n",
       "4                1         1         1         2                  1         2   \n",
       "\n",
       "   SHORTNESS OF BREATH  SWALLOWING DIFFICULTY  CHEST PAIN LUNG_CANCER  \n",
       "0                    2                      2           2         YES  \n",
       "1                    2                      2           2         YES  \n",
       "2                    2                      1           2          NO  \n",
       "3                    1                      2           2          NO  \n",
       "4                    2                      1           1          NO  "
      ]
     },
     "execution_count": 4,
     "metadata": {},
     "output_type": "execute_result"
    }
   ],
   "source": [
    "data.head()"
   ]
  },
  {
   "cell_type": "code",
   "execution_count": 5,
   "id": "49d7103c",
   "metadata": {},
   "outputs": [
    {
     "data": {
      "text/plain": [
       "GENDER                   0\n",
       "AGE                      0\n",
       "SMOKING                  0\n",
       "YELLOW_FINGERS           0\n",
       "ANXIETY                  0\n",
       "PEER_PRESSURE            0\n",
       "CHRONIC DISEASE          0\n",
       "FATIGUE                  0\n",
       "ALLERGY                  0\n",
       "WHEEZING                 0\n",
       "ALCOHOL CONSUMING        0\n",
       "COUGHING                 0\n",
       "SHORTNESS OF BREATH      0\n",
       "SWALLOWING DIFFICULTY    0\n",
       "CHEST PAIN               0\n",
       "LUNG_CANCER              0\n",
       "dtype: int64"
      ]
     },
     "execution_count": 5,
     "metadata": {},
     "output_type": "execute_result"
    }
   ],
   "source": [
    "data.isnull().sum()"
   ]
  },
  {
   "cell_type": "markdown",
   "id": "fdb17e04",
   "metadata": {},
   "source": [
    "# Label encodeing because convert the categorical data to numerical data"
   ]
  },
  {
   "cell_type": "code",
   "execution_count": 6,
   "id": "64f9f8c8",
   "metadata": {},
   "outputs": [],
   "source": [
    "from sklearn.preprocessing import LabelEncoder\n",
    "labelencoder_Y = LabelEncoder()"
   ]
  },
  {
   "cell_type": "code",
   "execution_count": 7,
   "id": "51d34825",
   "metadata": {},
   "outputs": [],
   "source": [
    "data.iloc[:,0] =  labelencoder_Y.fit_transform(data.iloc[:,0].values)"
   ]
  },
  {
   "cell_type": "code",
   "execution_count": 8,
   "id": "5d03ccc7",
   "metadata": {},
   "outputs": [],
   "source": [
    "data.iloc[:,15] =  labelencoder_Y.fit_transform(data.iloc[:,15].values)"
   ]
  },
  {
   "cell_type": "code",
   "execution_count": 9,
   "id": "29f2d6a4",
   "metadata": {},
   "outputs": [
    {
     "data": {
      "text/plain": [
       "array([1, 1, 0, 0, 0, 1, 1, 1, 0, 1, 1, 1, 0, 1, 0, 1, 1, 1, 1, 0, 1, 1,\n",
       "       0, 1, 1, 1, 1, 0, 1, 0, 0, 1, 0, 1, 0, 1, 1, 0, 1, 1, 1, 1, 1, 1,\n",
       "       1, 1, 1, 1, 1, 0, 1, 1, 1, 1, 1, 1, 1, 1, 1, 1, 1, 0, 1, 1, 1, 1,\n",
       "       1, 1, 1, 1, 1, 1, 1, 1, 1, 1, 1, 1, 1, 1, 0, 1, 1, 1, 1, 1, 1, 1,\n",
       "       1, 1, 1, 1, 1, 1, 1, 1, 1, 1, 1, 1, 1, 1, 1, 1, 1, 1, 1, 1, 1, 1,\n",
       "       1, 1, 1, 1, 1, 1, 1, 1, 1, 1, 1, 1, 1, 1, 1, 1, 1, 1, 1, 0, 1, 1,\n",
       "       1, 1, 1, 1, 1, 1, 1, 1, 1, 1, 1, 1, 1, 1, 1, 1, 1, 1, 1, 1, 1, 0,\n",
       "       0, 1, 0, 0, 1, 0, 1, 1, 1, 1, 1, 1, 1, 1, 1, 1, 1, 0, 1, 1, 1, 1,\n",
       "       1, 1, 1, 1, 1, 1, 1, 0, 1, 1, 1, 1, 1, 1, 1, 1, 1, 1, 1, 1, 1, 1,\n",
       "       1, 1, 1, 1, 1, 1, 1, 1, 1, 0, 1, 1, 1, 1, 1, 1, 1, 0, 1, 1, 1, 1,\n",
       "       1, 0, 1, 1, 1, 1, 1, 1, 1, 1, 1, 1, 1, 1, 1, 1, 1, 1, 1, 1, 1, 1,\n",
       "       1, 1, 1, 0, 1, 1, 1, 0, 1, 1, 1, 1, 1, 1, 1, 1, 1, 1, 1, 1, 0, 1,\n",
       "       1, 1, 0, 1, 1, 1, 0, 1, 0, 1, 1, 1, 1, 0, 1, 1, 0, 0, 0, 1, 1, 1,\n",
       "       0, 1, 1, 1, 1, 1, 1, 1, 1, 1, 1, 1, 1, 1, 1, 1, 1, 1, 1, 1, 1, 1,\n",
       "       1])"
      ]
     },
     "execution_count": 9,
     "metadata": {},
     "output_type": "execute_result"
    }
   ],
   "source": [
    "\n",
    "data.iloc[:,15].values"
   ]
  },
  {
   "cell_type": "code",
   "execution_count": 10,
   "id": "451d2073",
   "metadata": {},
   "outputs": [
    {
     "data": {
      "text/html": [
       "<div>\n",
       "<style scoped>\n",
       "    .dataframe tbody tr th:only-of-type {\n",
       "        vertical-align: middle;\n",
       "    }\n",
       "\n",
       "    .dataframe tbody tr th {\n",
       "        vertical-align: top;\n",
       "    }\n",
       "\n",
       "    .dataframe thead th {\n",
       "        text-align: right;\n",
       "    }\n",
       "</style>\n",
       "<table border=\"1\" class=\"dataframe\">\n",
       "  <thead>\n",
       "    <tr style=\"text-align: right;\">\n",
       "      <th></th>\n",
       "      <th>AGE</th>\n",
       "      <th>SMOKING</th>\n",
       "      <th>YELLOW_FINGERS</th>\n",
       "      <th>ANXIETY</th>\n",
       "      <th>PEER_PRESSURE</th>\n",
       "      <th>CHRONIC DISEASE</th>\n",
       "    </tr>\n",
       "  </thead>\n",
       "  <tbody>\n",
       "    <tr>\n",
       "      <th>AGE</th>\n",
       "      <td>1.000000</td>\n",
       "      <td>-0.084475</td>\n",
       "      <td>0.005205</td>\n",
       "      <td>0.053170</td>\n",
       "      <td>0.018685</td>\n",
       "      <td>-0.012642</td>\n",
       "    </tr>\n",
       "    <tr>\n",
       "      <th>SMOKING</th>\n",
       "      <td>-0.084475</td>\n",
       "      <td>1.000000</td>\n",
       "      <td>-0.014585</td>\n",
       "      <td>0.160267</td>\n",
       "      <td>-0.042822</td>\n",
       "      <td>-0.141522</td>\n",
       "    </tr>\n",
       "    <tr>\n",
       "      <th>YELLOW_FINGERS</th>\n",
       "      <td>0.005205</td>\n",
       "      <td>-0.014585</td>\n",
       "      <td>1.000000</td>\n",
       "      <td>0.565829</td>\n",
       "      <td>0.323083</td>\n",
       "      <td>0.041122</td>\n",
       "    </tr>\n",
       "    <tr>\n",
       "      <th>ANXIETY</th>\n",
       "      <td>0.053170</td>\n",
       "      <td>0.160267</td>\n",
       "      <td>0.565829</td>\n",
       "      <td>1.000000</td>\n",
       "      <td>0.216841</td>\n",
       "      <td>-0.009678</td>\n",
       "    </tr>\n",
       "    <tr>\n",
       "      <th>PEER_PRESSURE</th>\n",
       "      <td>0.018685</td>\n",
       "      <td>-0.042822</td>\n",
       "      <td>0.323083</td>\n",
       "      <td>0.216841</td>\n",
       "      <td>1.000000</td>\n",
       "      <td>0.048515</td>\n",
       "    </tr>\n",
       "    <tr>\n",
       "      <th>CHRONIC DISEASE</th>\n",
       "      <td>-0.012642</td>\n",
       "      <td>-0.141522</td>\n",
       "      <td>0.041122</td>\n",
       "      <td>-0.009678</td>\n",
       "      <td>0.048515</td>\n",
       "      <td>1.000000</td>\n",
       "    </tr>\n",
       "  </tbody>\n",
       "</table>\n",
       "</div>"
      ],
      "text/plain": [
       "                      AGE   SMOKING  YELLOW_FINGERS   ANXIETY  PEER_PRESSURE  \\\n",
       "AGE              1.000000 -0.084475        0.005205  0.053170       0.018685   \n",
       "SMOKING         -0.084475  1.000000       -0.014585  0.160267      -0.042822   \n",
       "YELLOW_FINGERS   0.005205 -0.014585        1.000000  0.565829       0.323083   \n",
       "ANXIETY          0.053170  0.160267        0.565829  1.000000       0.216841   \n",
       "PEER_PRESSURE    0.018685 -0.042822        0.323083  0.216841       1.000000   \n",
       "CHRONIC DISEASE -0.012642 -0.141522        0.041122 -0.009678       0.048515   \n",
       "\n",
       "                 CHRONIC DISEASE  \n",
       "AGE                    -0.012642  \n",
       "SMOKING                -0.141522  \n",
       "YELLOW_FINGERS          0.041122  \n",
       "ANXIETY                -0.009678  \n",
       "PEER_PRESSURE           0.048515  \n",
       "CHRONIC DISEASE         1.000000  "
      ]
     },
     "execution_count": 10,
     "metadata": {},
     "output_type": "execute_result"
    }
   ],
   "source": [
    "data.iloc[:,1:7].corr()"
   ]
  },
  {
   "cell_type": "code",
   "execution_count": 11,
   "id": "df9d5782",
   "metadata": {},
   "outputs": [],
   "source": [
    "x = data.drop('LUNG_CANCER',axis=1).values\n",
    "y = data['LUNG_CANCER'].values"
   ]
  },
  {
   "cell_type": "code",
   "execution_count": 12,
   "id": "e3e57c10",
   "metadata": {},
   "outputs": [
    {
     "data": {
      "text/plain": [
       "array([1, 1, 0, 0, 0, 1, 1, 1, 0, 1, 1, 1, 0, 1, 0, 1, 1, 1, 1, 0, 1, 1,\n",
       "       0, 1, 1, 1, 1, 0, 1, 0, 0, 1, 0, 1, 0, 1, 1, 0, 1, 1, 1, 1, 1, 1,\n",
       "       1, 1, 1, 1, 1, 0, 1, 1, 1, 1, 1, 1, 1, 1, 1, 1, 1, 0, 1, 1, 1, 1,\n",
       "       1, 1, 1, 1, 1, 1, 1, 1, 1, 1, 1, 1, 1, 1, 0, 1, 1, 1, 1, 1, 1, 1,\n",
       "       1, 1, 1, 1, 1, 1, 1, 1, 1, 1, 1, 1, 1, 1, 1, 1, 1, 1, 1, 1, 1, 1,\n",
       "       1, 1, 1, 1, 1, 1, 1, 1, 1, 1, 1, 1, 1, 1, 1, 1, 1, 1, 1, 0, 1, 1,\n",
       "       1, 1, 1, 1, 1, 1, 1, 1, 1, 1, 1, 1, 1, 1, 1, 1, 1, 1, 1, 1, 1, 0,\n",
       "       0, 1, 0, 0, 1, 0, 1, 1, 1, 1, 1, 1, 1, 1, 1, 1, 1, 0, 1, 1, 1, 1,\n",
       "       1, 1, 1, 1, 1, 1, 1, 0, 1, 1, 1, 1, 1, 1, 1, 1, 1, 1, 1, 1, 1, 1,\n",
       "       1, 1, 1, 1, 1, 1, 1, 1, 1, 0, 1, 1, 1, 1, 1, 1, 1, 0, 1, 1, 1, 1,\n",
       "       1, 0, 1, 1, 1, 1, 1, 1, 1, 1, 1, 1, 1, 1, 1, 1, 1, 1, 1, 1, 1, 1,\n",
       "       1, 1, 1, 0, 1, 1, 1, 0, 1, 1, 1, 1, 1, 1, 1, 1, 1, 1, 1, 1, 0, 1,\n",
       "       1, 1, 0, 1, 1, 1, 0, 1, 0, 1, 1, 1, 1, 0, 1, 1, 0, 0, 0, 1, 1, 1,\n",
       "       0, 1, 1, 1, 1, 1, 1, 1, 1, 1, 1, 1, 1, 1, 1, 1, 1, 1, 1, 1, 1, 1,\n",
       "       1])"
      ]
     },
     "execution_count": 12,
     "metadata": {},
     "output_type": "execute_result"
    }
   ],
   "source": [
    "y"
   ]
  },
  {
   "cell_type": "markdown",
   "id": "ad105e4f",
   "metadata": {},
   "source": [
    "# 80:20 ratio create  Train and test data  from the data set "
   ]
  },
  {
   "cell_type": "code",
   "execution_count": 13,
   "id": "86b27c77",
   "metadata": {},
   "outputs": [],
   "source": [
    "\n",
    "from sklearn.model_selection import train_test_split"
   ]
  },
  {
   "cell_type": "code",
   "execution_count": 14,
   "id": "81560d93",
   "metadata": {},
   "outputs": [],
   "source": [
    "x_test , x_train,y_test,y_train = train_test_split(x,y,test_size=0.2,random_state=1)"
   ]
  },
  {
   "cell_type": "markdown",
   "id": "1e70ba14",
   "metadata": {},
   "source": [
    "# Normalization"
   ]
  },
  {
   "cell_type": "code",
   "execution_count": 15,
   "id": "591cb28e",
   "metadata": {},
   "outputs": [],
   "source": [
    "from sklearn.preprocessing import StandardScaler\n",
    "sc = StandardScaler()\n",
    "x_train = sc.fit_transform(x_train)\n",
    "x_test = sc.fit_transform(x_test)"
   ]
  },
  {
   "cell_type": "markdown",
   "id": "91f46c0f",
   "metadata": {},
   "source": [
    "# Train the model using Logistic regression\n"
   ]
  },
  {
   "cell_type": "code",
   "execution_count": 16,
   "id": "fe16f865",
   "metadata": {},
   "outputs": [
    {
     "name": "stdout",
     "output_type": "stream",
     "text": [
      "the accuracy of  Logistic Regressiono Model is : 0.9838709677419355\n"
     ]
    }
   ],
   "source": [
    "\n",
    "def logistic_model(x_train , y_train):\n",
    "    from sklearn.linear_model import LogisticRegression\n",
    "    log = LogisticRegression(random_state = 0)\n",
    "    log.fit(x_train , y_train)\n",
    "    y_pred_log = log.predict(x_test)\n",
    "    \n",
    "    print(\"the accuracy of  Logistic Regressiono Model is :\",log.score(x_train,y_train))\n",
    "    return log\n",
    "\n",
    "Logistic_Model = logistic_model(x_train , y_train)"
   ]
  },
  {
   "cell_type": "markdown",
   "id": "117e72e6",
   "metadata": {},
   "source": [
    "# Train the model using Decision Tree"
   ]
  },
  {
   "cell_type": "code",
   "execution_count": 17,
   "id": "c75d25e7",
   "metadata": {},
   "outputs": [
    {
     "name": "stdout",
     "output_type": "stream",
     "text": [
      "the accuracy of Decision Tree  Model is : 1.0\n"
     ]
    }
   ],
   "source": [
    "\n",
    "    from sklearn.tree import DecisionTreeClassifier\n",
    "    tree = DecisionTreeClassifier(criterion='entropy' ,random_state = 0 )\n",
    "    tree.fit(x_train , y_train)\n",
    "    y_pred_tree = tree.predict(x_test)\n",
    "    print(\"the accuracy of Decision Tree  Model is :\",tree.score(x_train,y_train))\n",
    "    \n"
   ]
  },
  {
   "cell_type": "markdown",
   "id": "5943a416",
   "metadata": {},
   "source": [
    "# Train the model using RandomForestClassifier"
   ]
  },
  {
   "cell_type": "code",
   "execution_count": 18,
   "id": "0dd25192",
   "metadata": {},
   "outputs": [
    {
     "name": "stdout",
     "output_type": "stream",
     "text": [
      "the accuracy of RandomForest Classifier  Model is : 1.0\n"
     ]
    }
   ],
   "source": [
    "\n",
    "    from sklearn.ensemble import RandomForestClassifier\n",
    "    forest = RandomForestClassifier(n_estimators=10,criterion='entropy',random_state=0)\n",
    "    forest.fit(x_train , y_train)\n",
    "    y_pred_forest = forest.predict(x_test)\n",
    "\n",
    "    print(\"the accuracy of RandomForest Classifier  Model is :\",forest.score(x_train,y_train))\n",
    "\n"
   ]
  },
  {
   "cell_type": "markdown",
   "id": "2811d9a0",
   "metadata": {},
   "source": [
    "#  support vector machine"
   ]
  },
  {
   "cell_type": "code",
   "execution_count": 19,
   "id": "31ccccc6",
   "metadata": {},
   "outputs": [
    {
     "name": "stdout",
     "output_type": "stream",
     "text": [
      "the accuracy of  support vector machine  Model is : 0.967741935483871\n"
     ]
    }
   ],
   "source": [
    "from sklearn import svm\n",
    "model_svm = svm.SVC(kernel=\"linear\",gamma=\"auto\",C=0.3)\n",
    "model_svm.fit(x_train,y_train)\n",
    "y_pred_svm = model_svm.predict(x_test)\n",
    "print(\"the accuracy of  support vector machine  Model is :\",model_svm.score(x_train,y_train))"
   ]
  },
  {
   "cell_type": "markdown",
   "id": "7bf77078",
   "metadata": {},
   "source": [
    "# The k-Nearest Neighbors (KNN) algorithm"
   ]
  },
  {
   "cell_type": "code",
   "execution_count": 20,
   "id": "5fac3e73",
   "metadata": {},
   "outputs": [
    {
     "name": "stdout",
     "output_type": "stream",
     "text": [
      "the accuracy of  support vector machine  Model is : 0.9032258064516129\n"
     ]
    }
   ],
   "source": [
    "from sklearn.neighbors import KNeighborsClassifier\n",
    "knn = KNeighborsClassifier(n_neighbors=5)\n",
    "knn.fit(x_train, y_train)\n",
    "y_pred_knn = knn.predict(x_test)\n",
    "print(\"the accuracy of  support vector machine  Model is :\",knn.score(x_train,y_train))"
   ]
  },
  {
   "cell_type": "code",
   "execution_count": 64,
   "id": "f2dcafbd",
   "metadata": {},
   "outputs": [
    {
     "name": "stdout",
     "output_type": "stream",
     "text": [
      "Accuracy: 0.8704453441295547\n"
     ]
    }
   ],
   "source": [
    "from sklearn.metrics import accuracy_score\n",
    "accuracy = accuracy_score(y_test, y_pred_knn)\n",
    "print('Accuracy:', accuracy)"
   ]
  },
  {
   "cell_type": "markdown",
   "id": "99b13290",
   "metadata": {},
   "source": [
    "# Classification  report for every model"
   ]
  },
  {
   "cell_type": "markdown",
   "id": "b3610238",
   "metadata": {},
   "source": [
    "# logistic regression  classification report"
   ]
  },
  {
   "cell_type": "code",
   "execution_count": 22,
   "id": "b1647ed0",
   "metadata": {},
   "outputs": [
    {
     "name": "stdout",
     "output_type": "stream",
     "text": [
      "              precision    recall  f1-score   support\n",
      "\n",
      "           0       0.40      0.19      0.26        31\n",
      "           1       0.89      0.96      0.92       216\n",
      "\n",
      "    accuracy                           0.86       247\n",
      "   macro avg       0.65      0.58      0.59       247\n",
      "weighted avg       0.83      0.86      0.84       247\n",
      "\n"
     ]
    }
   ],
   "source": [
    "from sklearn.metrics import classification_report\n",
    "\n",
    "print(classification_report(y_test,Logistic_Model.predict(x_test)))\n",
    "\n"
   ]
  },
  {
   "cell_type": "markdown",
   "id": "07549766",
   "metadata": {},
   "source": [
    "# Support Vector Machine classification report"
   ]
  },
  {
   "cell_type": "code",
   "execution_count": 77,
   "id": "eb883a6d",
   "metadata": {},
   "outputs": [
    {
     "name": "stdout",
     "output_type": "stream",
     "text": [
      "              precision    recall  f1-score   support\n",
      "\n",
      "           0       0.38      0.16      0.23        31\n",
      "           1       0.89      0.96      0.92       216\n",
      "\n",
      "    accuracy                           0.86       247\n",
      "   macro avg       0.64      0.56      0.58       247\n",
      "weighted avg       0.83      0.86      0.84       247\n",
      "\n"
     ]
    }
   ],
   "source": [
    "print(classification_report(y_test,y_pred_svm))"
   ]
  },
  {
   "cell_type": "markdown",
   "id": "8b886695",
   "metadata": {},
   "source": [
    "# Decision Tree Algorithm classification report"
   ]
  },
  {
   "cell_type": "code",
   "execution_count": 81,
   "id": "869ccfdc",
   "metadata": {
    "scrolled": true
   },
   "outputs": [
    {
     "name": "stdout",
     "output_type": "stream",
     "text": [
      "              precision    recall  f1-score   support\n",
      "\n",
      "           0       0.41      0.39      0.40        31\n",
      "           1       0.91      0.92      0.92       216\n",
      "\n",
      "    accuracy                           0.85       247\n",
      "   macro avg       0.66      0.65      0.66       247\n",
      "weighted avg       0.85      0.85      0.85       247\n",
      "\n"
     ]
    }
   ],
   "source": [
    "print(classification_report(y_test,y_pred_tree))"
   ]
  },
  {
   "cell_type": "markdown",
   "id": "7e24a879",
   "metadata": {},
   "source": [
    "# RandomForestClassifier classification report"
   ]
  },
  {
   "cell_type": "code",
   "execution_count": 87,
   "id": "a0315718",
   "metadata": {},
   "outputs": [
    {
     "name": "stdout",
     "output_type": "stream",
     "text": [
      "              precision    recall  f1-score   support\n",
      "\n",
      "           0       0.37      0.23      0.28        31\n",
      "           1       0.89      0.94      0.92       216\n",
      "\n",
      "    accuracy                           0.85       247\n",
      "   macro avg       0.63      0.59      0.60       247\n",
      "weighted avg       0.83      0.85      0.84       247\n",
      "\n"
     ]
    }
   ],
   "source": [
    "\n",
    "print(classification_report(y_test,y_pred_forest))"
   ]
  },
  {
   "cell_type": "markdown",
   "id": "4b55fe14",
   "metadata": {},
   "source": [
    "# The k-Nearest Neighbors (KNN) algorithm classification report"
   ]
  },
  {
   "cell_type": "code",
   "execution_count": 89,
   "id": "cb7aff16",
   "metadata": {},
   "outputs": [
    {
     "name": "stdout",
     "output_type": "stream",
     "text": [
      "              precision    recall  f1-score   support\n",
      "\n",
      "           0       0.45      0.16      0.24        31\n",
      "           1       0.89      0.97      0.93       216\n",
      "\n",
      "    accuracy                           0.87       247\n",
      "   macro avg       0.67      0.57      0.58       247\n",
      "weighted avg       0.84      0.87      0.84       247\n",
      "\n"
     ]
    }
   ],
   "source": [
    "print(classification_report(y_test,y_pred_knn))"
   ]
  },
  {
   "cell_type": "code",
   "execution_count": null,
   "id": "b5fa3d37",
   "metadata": {},
   "outputs": [],
   "source": []
  }
 ],
 "metadata": {
  "kernelspec": {
   "display_name": "Python 3 (ipykernel)",
   "language": "python",
   "name": "python3"
  },
  "language_info": {
   "codemirror_mode": {
    "name": "ipython",
    "version": 3
   },
   "file_extension": ".py",
   "mimetype": "text/x-python",
   "name": "python",
   "nbconvert_exporter": "python",
   "pygments_lexer": "ipython3",
   "version": "3.10.12"
  },
  "varInspector": {
   "cols": {
    "lenName": 16,
    "lenType": 16,
    "lenVar": 40
   },
   "kernels_config": {
    "python": {
     "delete_cmd_postfix": "",
     "delete_cmd_prefix": "del ",
     "library": "var_list.py",
     "varRefreshCmd": "print(var_dic_list())"
    },
    "r": {
     "delete_cmd_postfix": ") ",
     "delete_cmd_prefix": "rm(",
     "library": "var_list.r",
     "varRefreshCmd": "cat(var_dic_list()) "
    }
   },
   "types_to_exclude": [
    "module",
    "function",
    "builtin_function_or_method",
    "instance",
    "_Feature"
   ],
   "window_display": false
  }
 },
 "nbformat": 4,
 "nbformat_minor": 5
}
